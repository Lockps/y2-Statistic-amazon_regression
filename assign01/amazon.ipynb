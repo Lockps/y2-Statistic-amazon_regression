{
 "cells": [
  {
   "cell_type": "code",
   "execution_count": 2,
   "metadata": {},
   "outputs": [],
   "source": [
    "from pyspark.sql import SparkSession\n",
    "\n",
    "spark = SparkSession.builder.master(\"local[*]\").getOrCreate()"
   ]
  },
  {
   "cell_type": "code",
   "execution_count": 5,
   "metadata": {},
   "outputs": [
    {
     "name": "stdout",
     "output_type": "stream",
     "text": [
      "+----------+--------------------+--------------------+--------------------+--------------------+--------------------+-----+-------+-----+-----------------+-----------+------------+-------------+-----------------+-------------+--------------------+\n",
      "|      asin|               title|              author|              soldBy|              imgUrl|          productURL|stars|reviews|price|isKindleUnlimited|category_id|isBestSeller|isEditorsPick|isGoodReadsChoice|publishedDate|       category_name|\n",
      "+----------+--------------------+--------------------+--------------------+--------------------+--------------------+-----+-------+-----+-----------------+-----------+------------+-------------+-----------------+-------------+--------------------+\n",
      "|B00TZE87S4|Adult Children of...|   Lindsay C. Gibson|Amazon.com Servic...|https://m.media-a...|https://www.amazo...|  4.8|      0| 9.99|            False|          6|        True|        False|            False|   2015-06-01|Parenting & Relat...|\n",
      "|B08WCKY8MB|From Strength to ...|    Arthur C. Brooks|Penguin Group (US...|https://m.media-a...|https://www.amazo...|  4.4|      0|16.99|            False|          6|       False|        False|            False|   2022-02-15|Parenting & Relat...|\n",
      "|B09KPS84CJ|Good Inside: A Gu...|       Becky Kennedy|HarperCollins Pub...|https://m.media-a...|https://www.amazo...|  4.8|      0|16.99|            False|          6|       False|         True|            False|   2022-09-13|Parenting & Relat...|\n",
      "|B07S7QPG6J|Everything I Know...|      Dolly Alderton|HarperCollins Pub...|https://m.media-a...|https://www.amazo...|  4.2|      0| 9.95|             True|          6|       False|         True|            False|   2020-02-25|Parenting & Relat...|\n",
      "|B00N6PEQV0|The Seven Princip...|        John Gottman|    Random House LLC|https://m.media-a...|https://www.amazo...|  4.7|      0|13.99|            False|          6|       False|        False|            False|   2015-05-05|Parenting & Relat...|\n",
      "|B000OVLKMM|The Glass Castle:...|     Jeannette Walls|Simon and Schuste...|https://m.media-a...|https://www.amazo...|  4.6|      0|13.99|            False|          6|       False|        False|            False|   2005-03-01|Parenting & Relat...|\n",
      "|B00AEBEQUK|Expecting Better:...|         Emily Oster|Penguin Group (US...|https://m.media-a...|https://www.amazo...|  4.6|      0|14.99|            False|          6|        True|        False|            False|         NULL|Parenting & Relat...|\n",
      "|B0BN5742KY|Never Enough: Whe...|Jennifer Breheny ...|Penguin Group (US...|https://m.media-a...|https://www.amazo...|  4.6|      0|15.99|            False|          6|       False|         True|            False|   2023-08-22|Parenting & Relat...|\n",
      "|B098PXH8CK|Unmasking Autism:...|         Devon Price|    Random House LLC|https://m.media-a...|https://www.amazo...|  4.7|      0|12.99|            False|          6|        True|        False|            False|   2022-04-05|Parenting & Relat...|\n",
      "|B087D5YQXB|What Happened to ...|       Oprah Winfrey|           Macmillan|https://m.media-a...|https://www.amazo...|  4.7|      0|14.99|             True|          6|       False|         True|            False|   2021-04-27|Parenting & Relat...|\n",
      "|B00AN2JPNI|Moms on Call | Ba...|    Laura Hunter LPN|Amazon.com Servic...|https://m.media-a...|https://www.amazo...|  4.7|      0|24.99|            False|          6|       False|        False|            False|         NULL|Parenting & Relat...|\n",
      "|B0B69SQNJY|A Little Pinprick...|        Paige Dearth|Amazon.com Servic...|https://m.media-a...|https://www.amazo...|  4.6|      0| 5.99|             True|          6|        True|        False|            False|         NULL|Parenting & Relat...|\n",
      "|B07FZPTDJ3|Cribsheet: A Data...|         Emily Oster|Penguin Group (US...|https://m.media-a...|https://www.amazo...|  4.7|      0|14.99|            False|          6|       False|        False|            False|         NULL|Parenting & Relat...|\n",
      "|B0BN4RB7L9|The Daddy Diaries...|          Andy Cohen|           Macmillan|https://m.media-a...|https://www.amazo...|  4.5|      0|14.99|            False|          6|       False|        False|            False|   2023-05-09|Parenting & Relat...|\n",
      "|B0BNWSS8H3|The Cruise: The b...|      Caroline James|HarperCollins Pub...|https://m.media-a...|https://www.amazo...|  4.2|      0| 2.99|            False|          6|       False|        False|            False|   2023-04-20|Parenting & Relat...|\n",
      "|B0B3Y8QQ6R|You Could Make Th...|        Maggie Smith|Simon and Schuste...|https://m.media-a...|https://www.amazo...|  4.5|      0|14.99|            False|          6|       False|         True|            False|   2023-04-11|Parenting & Relat...|\n",
      "|B004J4X32U|The Whole-Brain C...|    Daniel J. Siegel|    Random House LLC|https://m.media-a...|https://www.amazo...|  4.7|      0|12.99|            False|          6|       False|        False|            False|   2011-10-04|Parenting & Relat...|\n",
      "|B0CBL7RV55|It Starts with th...|        Rebecca Fett|Amazon.com Servic...|https://m.media-a...|https://www.amazo...|  4.7|      0| 9.99|            False|          6|        True|        False|            False|         NULL|Parenting & Relat...|\n",
      "|B07JKJCWGY|The Girls Are Gon...|    Michael Brodkorb|Amazon.com Servic...|https://m.media-a...|https://www.amazo...|  3.9|      0|  0.0|            False|          6|        True|        False|            False|   2018-10-23|Parenting & Relat...|\n",
      "|B01DCHZE3A|What to Expect Wh...|       Heidi Murkoff| Hachette Book Group|https://m.media-a...|https://www.amazo...|  4.8|      0|11.99|            False|          6|       False|        False|            False|         NULL|Parenting & Relat...|\n",
      "+----------+--------------------+--------------------+--------------------+--------------------+--------------------+-----+-------+-----+-----------------+-----------+------------+-------------+-----------------+-------------+--------------------+\n",
      "only showing top 20 rows\n",
      "\n"
     ]
    }
   ],
   "source": [
    "df = spark.read.csv(\"./data/amazon.csv\" , header=True )\n",
    "\n",
    "df.show()"
   ]
  }
 ],
 "metadata": {
  "kernelspec": {
   "display_name": "Python 3",
   "language": "python",
   "name": "python3"
  },
  "language_info": {
   "codemirror_mode": {
    "name": "ipython",
    "version": 3
   },
   "file_extension": ".py",
   "mimetype": "text/x-python",
   "name": "python",
   "nbconvert_exporter": "python",
   "pygments_lexer": "ipython3",
   "version": "3.11.7"
  }
 },
 "nbformat": 4,
 "nbformat_minor": 2
}
